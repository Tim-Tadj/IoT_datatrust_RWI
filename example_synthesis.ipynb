{
 "cells": [
  {
   "cell_type": "markdown",
   "metadata": {},
   "source": [
    "# Import script and required dependencies (RWI Algorithm)"
   ]
  },
  {
   "cell_type": "code",
   "execution_count": 13,
   "metadata": {},
   "outputs": [],
   "source": [
    "#required 3rd party packages for synthesis script\n",
    "import numpy as np \n",
    "import pandas as pd\n",
    "from tqdm import tqdm\n",
    "\n",
    "import synthesis"
   ]
  },
  {
   "cell_type": "markdown",
   "metadata": {},
   "source": [
    "# Load dataframe from file (eg .csv)"
   ]
  },
  {
   "cell_type": "code",
   "execution_count": 14,
   "metadata": {},
   "outputs": [],
   "source": [
    "#read in the data from the csv\n",
    "dataset = pd.read_csv(\"data.csv\")\n",
    "#convert datetime column to datetime objects\n",
    "dataset[\"datetime\"] = pd.to_datetime(dataset[\"datetime\"])"
   ]
  },
  {
   "cell_type": "markdown",
   "metadata": {},
   "source": [
    "# Show layout of data"
   ]
  },
  {
   "cell_type": "code",
   "execution_count": 15,
   "metadata": {},
   "outputs": [
    {
     "data": {
      "text/html": [
       "<div>\n",
       "<style scoped>\n",
       "    .dataframe tbody tr th:only-of-type {\n",
       "        vertical-align: middle;\n",
       "    }\n",
       "\n",
       "    .dataframe tbody tr th {\n",
       "        vertical-align: top;\n",
       "    }\n",
       "\n",
       "    .dataframe thead th {\n",
       "        text-align: right;\n",
       "    }\n",
       "</style>\n",
       "<table border=\"1\" class=\"dataframe\">\n",
       "  <thead>\n",
       "    <tr style=\"text-align: right;\">\n",
       "      <th></th>\n",
       "      <th>datetime</th>\n",
       "      <th>moteid</th>\n",
       "      <th>realworld</th>\n",
       "      <th>randwalk</th>\n",
       "      <th>drift</th>\n",
       "      <th>realworld_trustscore</th>\n",
       "      <th>randwalk_trustscore</th>\n",
       "      <th>drift_trustscore</th>\n",
       "    </tr>\n",
       "  </thead>\n",
       "  <tbody>\n",
       "    <tr>\n",
       "      <th>0</th>\n",
       "      <td>2004-02-28 00:59:16.027850</td>\n",
       "      <td>1.0</td>\n",
       "      <td>19.9884</td>\n",
       "      <td>20.220567</td>\n",
       "      <td>19.941908</td>\n",
       "      <td>1.0</td>\n",
       "      <td>0.0</td>\n",
       "      <td>0.0</td>\n",
       "    </tr>\n",
       "    <tr>\n",
       "      <th>1</th>\n",
       "      <td>2004-02-28 01:03:16.333930</td>\n",
       "      <td>1.0</td>\n",
       "      <td>19.3024</td>\n",
       "      <td>20.112081</td>\n",
       "      <td>19.276540</td>\n",
       "      <td>1.0</td>\n",
       "      <td>0.0</td>\n",
       "      <td>0.0</td>\n",
       "    </tr>\n",
       "    <tr>\n",
       "      <th>2</th>\n",
       "      <td>2004-02-28 01:06:16.013453</td>\n",
       "      <td>1.0</td>\n",
       "      <td>19.1652</td>\n",
       "      <td>20.170665</td>\n",
       "      <td>19.249080</td>\n",
       "      <td>1.0</td>\n",
       "      <td>0.0</td>\n",
       "      <td>0.0</td>\n",
       "    </tr>\n",
       "    <tr>\n",
       "      <th>3</th>\n",
       "      <td>2004-02-28 01:06:46.778088</td>\n",
       "      <td>1.0</td>\n",
       "      <td>19.1750</td>\n",
       "      <td>20.171968</td>\n",
       "      <td>19.247725</td>\n",
       "      <td>1.0</td>\n",
       "      <td>0.0</td>\n",
       "      <td>0.0</td>\n",
       "    </tr>\n",
       "    <tr>\n",
       "      <th>4</th>\n",
       "      <td>2004-02-28 01:08:45.992524</td>\n",
       "      <td>1.0</td>\n",
       "      <td>19.1456</td>\n",
       "      <td>20.148636</td>\n",
       "      <td>19.196851</td>\n",
       "      <td>1.0</td>\n",
       "      <td>0.0</td>\n",
       "      <td>0.0</td>\n",
       "    </tr>\n",
       "    <tr>\n",
       "      <th>...</th>\n",
       "      <td>...</td>\n",
       "      <td>...</td>\n",
       "      <td>...</td>\n",
       "      <td>...</td>\n",
       "      <td>...</td>\n",
       "      <td>...</td>\n",
       "      <td>...</td>\n",
       "      <td>...</td>\n",
       "    </tr>\n",
       "    <tr>\n",
       "      <th>2313148</th>\n",
       "      <td>2004-04-05 01:27:42.244832</td>\n",
       "      <td>58.0</td>\n",
       "      <td>19.9002</td>\n",
       "      <td>19.871967</td>\n",
       "      <td>22.031741</td>\n",
       "      <td>1.0</td>\n",
       "      <td>0.0</td>\n",
       "      <td>0.0</td>\n",
       "    </tr>\n",
       "    <tr>\n",
       "      <th>2313149</th>\n",
       "      <td>2004-04-05 06:00:20.641618</td>\n",
       "      <td>58.0</td>\n",
       "      <td>18.5380</td>\n",
       "      <td>19.126092</td>\n",
       "      <td>22.938351</td>\n",
       "      <td>1.0</td>\n",
       "      <td>0.0</td>\n",
       "      <td>0.0</td>\n",
       "    </tr>\n",
       "    <tr>\n",
       "      <th>2313150</th>\n",
       "      <td>2004-04-05 06:00:46.627921</td>\n",
       "      <td>58.0</td>\n",
       "      <td>18.5478</td>\n",
       "      <td>18.565029</td>\n",
       "      <td>25.177315</td>\n",
       "      <td>1.0</td>\n",
       "      <td>0.0</td>\n",
       "      <td>0.0</td>\n",
       "    </tr>\n",
       "    <tr>\n",
       "      <th>2313151</th>\n",
       "      <td>2004-04-05 10:33:26.112499</td>\n",
       "      <td>58.0</td>\n",
       "      <td>25.1040</td>\n",
       "      <td>25.127949</td>\n",
       "      <td>29.960368</td>\n",
       "      <td>1.0</td>\n",
       "      <td>0.0</td>\n",
       "      <td>0.0</td>\n",
       "    </tr>\n",
       "    <tr>\n",
       "      <th>2313152</th>\n",
       "      <td>2004-04-05 10:33:51.519477</td>\n",
       "      <td>58.0</td>\n",
       "      <td>25.1236</td>\n",
       "      <td>25.123600</td>\n",
       "      <td>29.966346</td>\n",
       "      <td>1.0</td>\n",
       "      <td>0.0</td>\n",
       "      <td>0.0</td>\n",
       "    </tr>\n",
       "  </tbody>\n",
       "</table>\n",
       "<p>2313153 rows × 8 columns</p>\n",
       "</div>"
      ],
      "text/plain": [
       "                          datetime  moteid  realworld   randwalk      drift  \\\n",
       "0       2004-02-28 00:59:16.027850     1.0    19.9884  20.220567  19.941908   \n",
       "1       2004-02-28 01:03:16.333930     1.0    19.3024  20.112081  19.276540   \n",
       "2       2004-02-28 01:06:16.013453     1.0    19.1652  20.170665  19.249080   \n",
       "3       2004-02-28 01:06:46.778088     1.0    19.1750  20.171968  19.247725   \n",
       "4       2004-02-28 01:08:45.992524     1.0    19.1456  20.148636  19.196851   \n",
       "...                            ...     ...        ...        ...        ...   \n",
       "2313148 2004-04-05 01:27:42.244832    58.0    19.9002  19.871967  22.031741   \n",
       "2313149 2004-04-05 06:00:20.641618    58.0    18.5380  19.126092  22.938351   \n",
       "2313150 2004-04-05 06:00:46.627921    58.0    18.5478  18.565029  25.177315   \n",
       "2313151 2004-04-05 10:33:26.112499    58.0    25.1040  25.127949  29.960368   \n",
       "2313152 2004-04-05 10:33:51.519477    58.0    25.1236  25.123600  29.966346   \n",
       "\n",
       "         realworld_trustscore  randwalk_trustscore  drift_trustscore  \n",
       "0                         1.0                  0.0               0.0  \n",
       "1                         1.0                  0.0               0.0  \n",
       "2                         1.0                  0.0               0.0  \n",
       "3                         1.0                  0.0               0.0  \n",
       "4                         1.0                  0.0               0.0  \n",
       "...                       ...                  ...               ...  \n",
       "2313148                   1.0                  0.0               0.0  \n",
       "2313149                   1.0                  0.0               0.0  \n",
       "2313150                   1.0                  0.0               0.0  \n",
       "2313151                   1.0                  0.0               0.0  \n",
       "2313152                   1.0                  0.0               0.0  \n",
       "\n",
       "[2313153 rows x 8 columns]"
      ]
     },
     "execution_count": 15,
     "metadata": {},
     "output_type": "execute_result"
    }
   ],
   "source": [
    "dataset.head()"
   ]
  },
  {
   "cell_type": "markdown",
   "metadata": {},
   "source": [
    "# Create new dataframe using RWI algorithm that includes the new \"synthetic\" column"
   ]
  },
  {
   "cell_type": "markdown",
   "metadata": {},
   "source": [
    "It is suggested to play around with the step deviation (stepdev) and scaling (scale). Observing the ouput signal can give indication of a close 'fit' to the source data. If the synthesised data fits too closely then it may be impossible to differentiate source and synthetic data."
   ]
  },
  {
   "cell_type": "markdown",
   "metadata": {},
   "source": [
    "Point selection can have evenly spaced points in a time window, or randomly selected points (no duplicates). Use \"even\" or \"random\" to specify this for the point selection argument (even by default)."
   ]
  },
  {
   "cell_type": "code",
   "execution_count": 19,
   "metadata": {},
   "outputs": [
    {
     "name": "stderr",
     "output_type": "stream",
     "text": [
      "100%|██████████| 54/54 [00:11<00:00,  4.71it/s]\n"
     ]
    }
   ],
   "source": [
    "synthetic_data = synthesis.rwi_all_days(dataset, #dataset to be used\n",
    "                            \"realworld\",  #the column we synthesise data from\n",
    "                            stepdev=dataset.realworld.std()/8, #deviation of the step size\n",
    "                            scale=0.25,   #scaling factor applied before noise and rotation\n",
    "                            noise=0.1,    #noise factor applied after scaling and rotation\n",
    "                            num_points=12,#number of points we 'infit' between\n",
    "                            point_selection=\"even\") # method of selecting points to infit between (\"even\" or \"random\")"
   ]
  },
  {
   "cell_type": "markdown",
   "metadata": {},
   "source": [
    "# Show output"
   ]
  },
  {
   "cell_type": "code",
   "execution_count": 17,
   "metadata": {},
   "outputs": [
    {
     "data": {
      "text/html": [
       "<div>\n",
       "<style scoped>\n",
       "    .dataframe tbody tr th:only-of-type {\n",
       "        vertical-align: middle;\n",
       "    }\n",
       "\n",
       "    .dataframe tbody tr th {\n",
       "        vertical-align: top;\n",
       "    }\n",
       "\n",
       "    .dataframe thead th {\n",
       "        text-align: right;\n",
       "    }\n",
       "</style>\n",
       "<table border=\"1\" class=\"dataframe\">\n",
       "  <thead>\n",
       "    <tr style=\"text-align: right;\">\n",
       "      <th></th>\n",
       "      <th>datetime</th>\n",
       "      <th>moteid</th>\n",
       "      <th>realworld</th>\n",
       "      <th>randwalk</th>\n",
       "      <th>drift</th>\n",
       "      <th>realworld_trustscore</th>\n",
       "      <th>randwalk_trustscore</th>\n",
       "      <th>drift_trustscore</th>\n",
       "      <th>synthetic</th>\n",
       "    </tr>\n",
       "  </thead>\n",
       "  <tbody>\n",
       "    <tr>\n",
       "      <th>0</th>\n",
       "      <td>2004-02-28 00:59:16.027850</td>\n",
       "      <td>1.0</td>\n",
       "      <td>19.9884</td>\n",
       "      <td>20.220567</td>\n",
       "      <td>19.941908</td>\n",
       "      <td>1.0</td>\n",
       "      <td>0.0</td>\n",
       "      <td>0.0</td>\n",
       "      <td>20.184465</td>\n",
       "    </tr>\n",
       "    <tr>\n",
       "      <th>1</th>\n",
       "      <td>2004-02-28 01:03:16.333930</td>\n",
       "      <td>1.0</td>\n",
       "      <td>19.3024</td>\n",
       "      <td>20.112081</td>\n",
       "      <td>19.276540</td>\n",
       "      <td>1.0</td>\n",
       "      <td>0.0</td>\n",
       "      <td>0.0</td>\n",
       "      <td>20.088090</td>\n",
       "    </tr>\n",
       "    <tr>\n",
       "      <th>2</th>\n",
       "      <td>2004-02-28 01:06:16.013453</td>\n",
       "      <td>1.0</td>\n",
       "      <td>19.1652</td>\n",
       "      <td>20.170665</td>\n",
       "      <td>19.249080</td>\n",
       "      <td>1.0</td>\n",
       "      <td>0.0</td>\n",
       "      <td>0.0</td>\n",
       "      <td>19.965190</td>\n",
       "    </tr>\n",
       "    <tr>\n",
       "      <th>3</th>\n",
       "      <td>2004-02-28 01:06:46.778088</td>\n",
       "      <td>1.0</td>\n",
       "      <td>19.1750</td>\n",
       "      <td>20.171968</td>\n",
       "      <td>19.247725</td>\n",
       "      <td>1.0</td>\n",
       "      <td>0.0</td>\n",
       "      <td>0.0</td>\n",
       "      <td>20.152981</td>\n",
       "    </tr>\n",
       "    <tr>\n",
       "      <th>4</th>\n",
       "      <td>2004-02-28 01:08:45.992524</td>\n",
       "      <td>1.0</td>\n",
       "      <td>19.1456</td>\n",
       "      <td>20.148636</td>\n",
       "      <td>19.196851</td>\n",
       "      <td>1.0</td>\n",
       "      <td>0.0</td>\n",
       "      <td>0.0</td>\n",
       "      <td>19.895561</td>\n",
       "    </tr>\n",
       "    <tr>\n",
       "      <th>...</th>\n",
       "      <td>...</td>\n",
       "      <td>...</td>\n",
       "      <td>...</td>\n",
       "      <td>...</td>\n",
       "      <td>...</td>\n",
       "      <td>...</td>\n",
       "      <td>...</td>\n",
       "      <td>...</td>\n",
       "      <td>...</td>\n",
       "    </tr>\n",
       "    <tr>\n",
       "      <th>2313148</th>\n",
       "      <td>2004-04-05 01:27:42.244832</td>\n",
       "      <td>58.0</td>\n",
       "      <td>19.9002</td>\n",
       "      <td>19.871967</td>\n",
       "      <td>22.031741</td>\n",
       "      <td>1.0</td>\n",
       "      <td>0.0</td>\n",
       "      <td>0.0</td>\n",
       "      <td>19.900200</td>\n",
       "    </tr>\n",
       "    <tr>\n",
       "      <th>2313149</th>\n",
       "      <td>2004-04-05 06:00:20.641618</td>\n",
       "      <td>58.0</td>\n",
       "      <td>18.5380</td>\n",
       "      <td>19.126092</td>\n",
       "      <td>22.938351</td>\n",
       "      <td>1.0</td>\n",
       "      <td>0.0</td>\n",
       "      <td>0.0</td>\n",
       "      <td>18.538000</td>\n",
       "    </tr>\n",
       "    <tr>\n",
       "      <th>2313150</th>\n",
       "      <td>2004-04-05 06:00:46.627921</td>\n",
       "      <td>58.0</td>\n",
       "      <td>18.5478</td>\n",
       "      <td>18.565029</td>\n",
       "      <td>25.177315</td>\n",
       "      <td>1.0</td>\n",
       "      <td>0.0</td>\n",
       "      <td>0.0</td>\n",
       "      <td>18.547800</td>\n",
       "    </tr>\n",
       "    <tr>\n",
       "      <th>2313151</th>\n",
       "      <td>2004-04-05 10:33:26.112499</td>\n",
       "      <td>58.0</td>\n",
       "      <td>25.1040</td>\n",
       "      <td>25.127949</td>\n",
       "      <td>29.960368</td>\n",
       "      <td>1.0</td>\n",
       "      <td>0.0</td>\n",
       "      <td>0.0</td>\n",
       "      <td>25.104000</td>\n",
       "    </tr>\n",
       "    <tr>\n",
       "      <th>2313152</th>\n",
       "      <td>2004-04-05 10:33:51.519477</td>\n",
       "      <td>58.0</td>\n",
       "      <td>25.1236</td>\n",
       "      <td>25.123600</td>\n",
       "      <td>29.966346</td>\n",
       "      <td>1.0</td>\n",
       "      <td>0.0</td>\n",
       "      <td>0.0</td>\n",
       "      <td>25.123600</td>\n",
       "    </tr>\n",
       "  </tbody>\n",
       "</table>\n",
       "<p>2313153 rows × 9 columns</p>\n",
       "</div>"
      ],
      "text/plain": [
       "                          datetime  moteid  realworld   randwalk      drift  \\\n",
       "0       2004-02-28 00:59:16.027850     1.0    19.9884  20.220567  19.941908   \n",
       "1       2004-02-28 01:03:16.333930     1.0    19.3024  20.112081  19.276540   \n",
       "2       2004-02-28 01:06:16.013453     1.0    19.1652  20.170665  19.249080   \n",
       "3       2004-02-28 01:06:46.778088     1.0    19.1750  20.171968  19.247725   \n",
       "4       2004-02-28 01:08:45.992524     1.0    19.1456  20.148636  19.196851   \n",
       "...                            ...     ...        ...        ...        ...   \n",
       "2313148 2004-04-05 01:27:42.244832    58.0    19.9002  19.871967  22.031741   \n",
       "2313149 2004-04-05 06:00:20.641618    58.0    18.5380  19.126092  22.938351   \n",
       "2313150 2004-04-05 06:00:46.627921    58.0    18.5478  18.565029  25.177315   \n",
       "2313151 2004-04-05 10:33:26.112499    58.0    25.1040  25.127949  29.960368   \n",
       "2313152 2004-04-05 10:33:51.519477    58.0    25.1236  25.123600  29.966346   \n",
       "\n",
       "         realworld_trustscore  randwalk_trustscore  drift_trustscore  \\\n",
       "0                         1.0                  0.0               0.0   \n",
       "1                         1.0                  0.0               0.0   \n",
       "2                         1.0                  0.0               0.0   \n",
       "3                         1.0                  0.0               0.0   \n",
       "4                         1.0                  0.0               0.0   \n",
       "...                       ...                  ...               ...   \n",
       "2313148                   1.0                  0.0               0.0   \n",
       "2313149                   1.0                  0.0               0.0   \n",
       "2313150                   1.0                  0.0               0.0   \n",
       "2313151                   1.0                  0.0               0.0   \n",
       "2313152                   1.0                  0.0               0.0   \n",
       "\n",
       "         synthetic  \n",
       "0        20.184465  \n",
       "1        20.088090  \n",
       "2        19.965190  \n",
       "3        20.152981  \n",
       "4        19.895561  \n",
       "...            ...  \n",
       "2313148  19.900200  \n",
       "2313149  18.538000  \n",
       "2313150  18.547800  \n",
       "2313151  25.104000  \n",
       "2313152  25.123600  \n",
       "\n",
       "[2313153 rows x 9 columns]"
      ]
     },
     "execution_count": 17,
     "metadata": {},
     "output_type": "execute_result"
    }
   ],
   "source": [
    "synthetic_data"
   ]
  },
  {
   "cell_type": "markdown",
   "metadata": {},
   "source": [
    "# Graph 28/2/2004 mote 1 to demonstrate difference between synthetic and original"
   ]
  },
  {
   "cell_type": "code",
   "execution_count": 18,
   "metadata": {},
   "outputs": [
    {
     "data": {
      "text/plain": [
       "<AxesSubplot:xlabel='datetime'>"
      ]
     },
     "execution_count": 18,
     "metadata": {},
     "output_type": "execute_result"
    },
    {
     "data": {
      "image/png": "[encoded data removed]",
      "text/plain": [
       "<Figure size 432x288 with 1 Axes>"
      ]
     },
     "metadata": {
      "needs_background": "light"
     },
     "output_type": "display_data"
    }
   ],
   "source": [
    "from datetime import date\n",
    "filtered = synthetic_data[(synthetic_data.moteid == 1) & (synthetic_data.datetime.dt.date == date(2004, 2, 28))]\n",
    "filtered.plot(x=\"datetime\", y=[\"realworld\", \"synthetic\"])"
   ]
  },
  {
   "cell_type": "markdown",
   "metadata": {},
   "source": [
    "Now you can rename the sythetic column (if desired) and save to file (eg synthetic_data.to_csv(\"new_df.csv\"))\n",
    "note that the provided data has a \"randwalk\" column which has previously been generated using RWI (random walk infitting)"
   ]
  },
  {
   "cell_type": "markdown",
   "metadata": {},
   "source": [
    "You can also copy the code used in this example notebook to synthesise as many types of data as you like, import the script to your own program or copy the class directly from source and use it how you like."
   ]
  }
 ],
 "metadata": {
  "kernelspec": {
   "display_name": "Python 3.9.7 ('DATAgen')",
   "language": "python",
   "name": "python3"
  },
  "language_info": {
   "codemirror_mode": {
    "name": "ipython",
    "version": 3
   },
   "file_extension": ".py",
   "mimetype": "text/x-python",
   "name": "python",
   "nbconvert_exporter": "python",
   "pygments_lexer": "ipython3",
   "version": "3.9.7"
  },
  "orig_nbformat": 4,
  "vscode": {
   "interpreter": {
    "hash": "45a211db816067fc1ee818bbbbbd551aa05b714e30c55fff0a16447c4ee1202d"
   }
  }
 },
 "nbformat": 4,
 "nbformat_minor": 2
}
