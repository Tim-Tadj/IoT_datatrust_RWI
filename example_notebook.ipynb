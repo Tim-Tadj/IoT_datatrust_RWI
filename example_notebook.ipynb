{
 "cells": [
  {
   "cell_type": "code",
   "execution_count": 1,
   "metadata": {},
   "outputs": [],
   "source": [
    "import datetime\n",
    "#required 3rd party libs\n",
    "import matplotlib.pyplot as plt\n",
    "import pandas as pd\n",
    "import numpy as np\n",
    "import scipy\n",
    "import tqdm\n",
    "import pickle as pkl\n",
    "import sklearn\n",
    "\n",
    "#required local libs\n",
    "from make_time_windows import make_sample_spaces\n",
    "import knn_correlations\n",
    "import frequency_domain\n"
   ]
  },
  {
   "cell_type": "markdown",
   "metadata": {},
   "source": [
    "# Binary classification of trust where majority dictates label"
   ]
  },
  {
   "cell_type": "code",
   "execution_count": 2,
   "metadata": {},
   "outputs": [],
   "source": [
    "def get_timewindow_trustscore(time_window: pd.DataFrame) -> int:\n",
    "    #get the trust score of the time window\n",
    "    time_window_trustscore = 1 if time_window[\"trustscore\"].mean() > 0.5 else 0\n",
    "    return time_window_trustscore"
   ]
  },
  {
   "cell_type": "markdown",
   "metadata": {},
   "source": [
    "# Read in provided data"
   ]
  },
  {
   "cell_type": "code",
   "execution_count": 3,
   "metadata": {},
   "outputs": [],
   "source": [
    "#read in labelled data\n",
    "df = pd.read_csv(\"data.csv\")\n",
    "\n",
    "#convert to datetime object\n",
    "df[\"datetime\"] = pd.to_datetime(df[\"datetime\"])\n",
    "\n",
    "#decalre the metric to use\n",
    "metric = \"temperature\"\n"
   ]
  },
  {
   "cell_type": "markdown",
   "metadata": {},
   "source": [
    "Define dfs with original and RWI (random walk infit) data as they will be treated slightly diffently.\n",
    "The names of columns are hard coded in the functions used"
   ]
  },
  {
   "cell_type": "code",
   "execution_count": 4,
   "metadata": {},
   "outputs": [],
   "source": [
    "labelled_original_data = pd.DataFrame()\n",
    "labelled_original_data[['datetime', 'moteid', metric, 'trustscore']] = df[['datetime', 'moteid', 'realworld', 'realworld_trustscore']]\n",
    "\n",
    "labelled_randwalk_data = pd.DataFrame()\n",
    "labelled_randwalk_data[['datetime', 'moteid', metric, 'trustscore']] = df[['datetime', 'moteid', 'randwalk', 'randwalk_trustscore']]\n"
   ]
  },
  {
   "cell_type": "markdown",
   "metadata": {},
   "source": [
    "Used time windows of 2 hours shifted by 1 hour. Samplespaces is a list of dataframes that adhere to this."
   ]
  },
  {
   "cell_type": "code",
   "execution_count": 5,
   "metadata": {},
   "outputs": [
    {
     "name": "stderr",
     "output_type": "stream",
     "text": [
      "100%|██████████| 899/899 [00:17<00:00, 51.10it/s]\n",
      "100%|██████████| 899/899 [00:13<00:00, 64.46it/s]\n"
     ]
    }
   ],
   "source": [
    "#make time windows \n",
    "hour = datetime.timedelta(hours=1)\n",
    "samplespaces_original = make_sample_spaces(labelled_original_data, hour*2, hour*1)\n",
    "samplespaces_randwalk = make_sample_spaces(labelled_randwalk_data, hour*2, hour*1)"
   ]
  },
  {
   "cell_type": "markdown",
   "metadata": {},
   "source": [
    "Near neighbours have already been calculated and are loaded from the neighbour map provided.\n",
    "\n",
    "We use this to get correlation features that summarise the time windows we created"
   ]
  },
  {
   "cell_type": "code",
   "execution_count": 6,
   "metadata": {},
   "outputs": [],
   "source": [
    "def save(data, path):\n",
    "    with open(path, \"wb\") as file:\n",
    "        pkl.dump(data, file)\n",
    "\n",
    "\n",
    "def load(path):\n",
    "    with open(path, \"rb\") as file:\n",
    "        var = pkl.load(file)\n",
    "    return var"
   ]
  },
  {
   "cell_type": "code",
   "execution_count": 7,
   "metadata": {},
   "outputs": [
    {
     "name": "stderr",
     "output_type": "stream",
     "text": [
      "100%|██████████| 775/775 [00:14<00:00, 52.74it/s]\n",
      "100%|██████████| 775/775 [00:14<00:00, 54.59it/s]\n"
     ]
    }
   ],
   "source": [
    "freq_arr_original = np.array(frequency_domain.main(samplespaces_original, metric))\n",
    "freq_arr_randwalk = np.array(frequency_domain.main(samplespaces_randwalk, metric))"
   ]
  },
  {
   "cell_type": "code",
   "execution_count": 8,
   "metadata": {},
   "outputs": [],
   "source": [
    "# save as pkl\n",
    "save(freq_arr_original, \"freq_arr_original.pkl\")\n",
    "save(freq_arr_randwalk, \"freq_arr_randwalk.pkl\")"
   ]
  },
  {
   "cell_type": "code",
   "execution_count": 9,
   "metadata": {},
   "outputs": [
    {
     "name": "stdout",
     "output_type": "stream",
     "text": [
      "(775, 54, 10)\n",
      "(775, 54, 10)\n"
     ]
    }
   ],
   "source": [
    "#load pkl\n",
    "freq_arr_original =load(\"freq_arr_original.pkl\")\n",
    "print(freq_arr_original.shape)\n",
    "freq_arr_randwalk = load(\"freq_arr_randwalk.pkl\")\n",
    "print(freq_arr_randwalk.shape)\n"
   ]
  },
  {
   "cell_type": "code",
   "execution_count": null,
   "metadata": {},
   "outputs": [],
   "source": [
    "#calculate 7 nearest correlations (hard coded)\n",
    "neighbour_map = pd.read_csv(\"neighbour_map.csv\")\n",
    "correlations_original = knn_correlations.main(samplespaces_original, neighbour_map, metric)\n",
    "correlations_randwalk = knn_correlations.main(samplespaces_randwalk, neighbour_map, metric)\n",
    "corr_arr_original = np.array(correlations_original)\n",
    "corr_arr_randwalk = np.array(correlations_randwalk)\n"
   ]
  },
  {
   "cell_type": "code",
   "execution_count": null,
   "metadata": {},
   "outputs": [],
   "source": [
    "# save as pkl\n",
    "save(corr_arr_original, \"corr_arr_original.pkl\")\n",
    "save(corr_arr_randwalk, \"corr_arr_randwalk.pkl\")"
   ]
  },
  {
   "cell_type": "code",
   "execution_count": 11,
   "metadata": {},
   "outputs": [
    {
     "name": "stdout",
     "output_type": "stream",
     "text": [
      "(775, 54, 7)\n",
      "(775, 54, 7)\n"
     ]
    }
   ],
   "source": [
    "#load pkl\n",
    "corr_arr_original =load(\"corr_arr_original.pkl\")\n",
    "print(corr_arr_original.shape)\n",
    "corr_arr_randwalk = load(\"corr_arr_randwalk.pkl\")\n",
    "print(corr_arr_randwalk.shape)"
   ]
  },
  {
   "cell_type": "markdown",
   "metadata": {},
   "source": [
    "We do the same with freqency features"
   ]
  },
  {
   "cell_type": "markdown",
   "metadata": {},
   "source": [
    "We decide to determine trust levels for mote 1 so we combine like features for mote 1 (note that untrustworthy and trustworthy windows are unbalanced)"
   ]
  },
  {
   "cell_type": "code",
   "execution_count": 12,
   "metadata": {},
   "outputs": [],
   "source": [
    "# select features for mote 1\n",
    "mote_num = 1\n",
    "X_freq = np.concatenate((freq_arr_original, freq_arr_randwalk), axis=0)[:, mote_num-1, :] \n",
    "X_corr = np.concatenate((corr_arr_original, corr_arr_randwalk), axis=0)[:, mote_num-1, :]"
   ]
  },
  {
   "cell_type": "markdown",
   "metadata": {},
   "source": [
    "We normalise using standard scaler and then combine normalised features"
   ]
  },
  {
   "cell_type": "code",
   "execution_count": 13,
   "metadata": {},
   "outputs": [
    {
     "data": {
      "text/plain": [
       "(1550, 17)"
      ]
     },
     "execution_count": 13,
     "metadata": {},
     "output_type": "execute_result"
    }
   ],
   "source": [
    "# use standard scaler to normalise the data\n",
    "from sklearn.preprocessing import StandardScaler\n",
    "scaler = StandardScaler()\n",
    "X_freq_norm = scaler.fit_transform(X_freq)\n",
    "X_corr_norm = scaler.fit_transform(X_corr)\n",
    "\n",
    "# concatenate the two feature sets\n",
    "X_norm0 = np.concatenate((X_freq_norm, X_corr_norm), axis=1)\n",
    "X_norm0.shape"
   ]
  },
  {
   "cell_type": "markdown",
   "metadata": {},
   "source": [
    "Visulaise features using TSNE dimension reduction algorithm"
   ]
  },
  {
   "cell_type": "code",
   "execution_count": 14,
   "metadata": {},
   "outputs": [
    {
     "name": "stderr",
     "output_type": "stream",
     "text": [
      "C:\\Users\\TAD014\\AppData\\Local\\Packages\\PythonSoftwareFoundation.Python.3.9_qbz5n2kfra8p0\\LocalCache\\local-packages\\Python39\\site-packages\\sklearn\\manifold\\_t_sne.py:982: FutureWarning: The PCA initialization in TSNE will change to have the standard deviation of PC1 equal to 1e-4 in 1.2. This will ensure better convergence.\n",
      "  warnings.warn(\n"
     ]
    }
   ],
   "source": [
    "from sklearn.manifold import TSNE\n",
    "# get TSNE 2D representation\n",
    "X = X_norm0\n",
    "TSNEarr = np.array(TSNE(n_components=2, learning_rate='auto', init='pca', perplexity=5).fit_transform(X), dtype=np.double)\n"
   ]
  },
  {
   "cell_type": "code",
   "execution_count": 15,
   "metadata": {},
   "outputs": [],
   "source": [
    "# get trust scores where 1 is trusted and 0 is untrusted\n",
    "# y contains some untrusted data from the original dataset and is given a trust score of 0.5\n",
    "# both y and y2 assume that all data from the randwalk dataset is untrusworthy\n",
    "original_trust = np.array([get_timewindow_trustscore(time_window) for time_window in samplespaces_original], dtype=np.double)\n",
    "original_trust[original_trust == 0] = 0.5\n",
    "randwalk_trust = np.array([get_timewindow_trustscore(time_window) for time_window in samplespaces_randwalk], dtype=np.double)\n",
    "y = np.concatenate((original_trust, randwalk_trust), axis=0)"
   ]
  },
  {
   "cell_type": "markdown",
   "metadata": {},
   "source": [
    "Using verdis cmap, yellow is trustworthy, blue is realworld untrustworthy and purple is synthesised untrustworthy"
   ]
  },
  {
   "cell_type": "code",
   "execution_count": 16,
   "metadata": {},
   "outputs": [
    {
     "data": {
      "text/plain": [
       "<matplotlib.collections.PathCollection at 0x20c26aaa430>"
      ]
     },
     "execution_count": 16,
     "metadata": {},
     "output_type": "execute_result"
    },
    {
     "data": {
      "image/png": "[encoded data removed]",
      "text/plain": [
       "<Figure size 432x288 with 1 Axes>"
      ]
     },
     "metadata": {
      "needs_background": "light"
     },
     "output_type": "display_data"
    }
   ],
   "source": [
    "# plot TSNE for visualiastion purposes only\n",
    "plt.scatter(TSNEarr[:,0], TSNEarr[:,1], c=y, cmap='viridis')"
   ]
  },
  {
   "cell_type": "code",
   "execution_count": 17,
   "metadata": {},
   "outputs": [],
   "source": [
    "original_trust1 = np.array([get_timewindow_trustscore(time_window) for time_window in samplespaces_original])\n",
    "randwalk_trust1 = np.array([get_timewindow_trustscore(time_window) for time_window in samplespaces_randwalk])\n",
    "y1= np.concatenate((original_trust1, randwalk_trust1), axis=0)"
   ]
  },
  {
   "cell_type": "markdown",
   "metadata": {},
   "source": [
    "# Balance the proportion of labels in data set"
   ]
  },
  {
   "cell_type": "code",
   "execution_count": 18,
   "metadata": {},
   "outputs": [
    {
     "name": "stdout",
     "output_type": "stream",
     "text": [
      "before balancing 0.3529032258064516\n"
     ]
    }
   ],
   "source": [
    "#proportion of data that is trustworthy\n",
    "print(\"before balancing\" ,len(np.where(y1 == 1)[0])/len(y1))\n",
    "n = np.where(y1 ==0)[0].shape[0] - len(np.where(y1 == 1)[0])\n",
    "untrustworthy_idx = np.where(y1 ==0)[0]\n",
    "sampled_idx = np.random.choice(untrustworthy_idx, size=n, replace=False)\n"
   ]
  },
  {
   "cell_type": "code",
   "execution_count": 19,
   "metadata": {},
   "outputs": [
    {
     "name": "stdout",
     "output_type": "stream",
     "text": [
      "after balancing 0.5\n"
     ]
    }
   ],
   "source": [
    "y2 = np.delete(y1, sampled_idx)\n",
    "X_norm = np.delete(X_norm0, sampled_idx, axis=0)\n",
    "print(\"after balancing\", len(np.where(y2 == 1)[0])/len(y2))"
   ]
  },
  {
   "cell_type": "code",
   "execution_count": 20,
   "metadata": {},
   "outputs": [],
   "source": [
    "# now implement ML algorithms to classify the data using X_norm and y2\n",
    "# the following code is just an example of how to do this\n",
    "from sklearn.model_selection import train_test_split\n",
    "from sklearn.metrics import accuracy_score\n",
    "X_train, X_test, y_train, y_test = train_test_split(X_norm, y2, test_size=0.2, random_state=0)\n"
   ]
  },
  {
   "cell_type": "code",
   "execution_count": 21,
   "metadata": {},
   "outputs": [
    {
     "name": "stdout",
     "output_type": "stream",
     "text": [
      "0.9315068493150684\n"
     ]
    }
   ],
   "source": [
    "#implement MLP\n",
    "from sklearn.neural_network import MLPClassifier\n",
    "clf_MLP = MLPClassifier(  solver='adam',\n",
    "                        alpha=1e-3, \n",
    "                        activation = 'relu',\n",
    "                        tol = 1e-4,\n",
    "                        beta_1=0.8,\n",
    "                        beta_2=0.9,\n",
    "                        epsilon=1e-4,\n",
    "                        learning_rate_init=0.001,\n",
    "                        hidden_layer_sizes=(30),\n",
    "                        random_state=42, \n",
    "                        n_iter_no_change = 20,\n",
    "                        max_iter=20000)\n",
    "clf_MLP.fit(X_train, y_train)\n",
    "y_pred = clf_MLP.predict(X_test)\n",
    "print(accuracy_score(y_test, y_pred))\n"
   ]
  },
  {
   "cell_type": "code",
   "execution_count": 22,
   "metadata": {},
   "outputs": [
    {
     "name": "stdout",
     "output_type": "stream",
     "text": [
      "0.9223744292237442\n"
     ]
    }
   ],
   "source": [
    "#implement SVM\n",
    "from sklearn import svm\n",
    "clf_SVM = svm.SVC(kernel='rbf', C=290, gamma=1)\n",
    "clf_SVM.fit(X_train, y_train)\n",
    "y_pred = clf_SVM.predict(X_test)\n",
    "print(accuracy_score(y_test, y_pred))"
   ]
  },
  {
   "cell_type": "code",
   "execution_count": 23,
   "metadata": {},
   "outputs": [
    {
     "name": "stdout",
     "output_type": "stream",
     "text": [
      "0.8721461187214612\n"
     ]
    }
   ],
   "source": [
    "#implement label propagation with random 10 percent of the data as labelled\n",
    "X_train_10 = X_train[:int(len(X_train)*0.1)]\n",
    "y_train_10 = y_train[:int(len(y_train)*0.1)]\n",
    "from sklearn.semi_supervised import LabelPropagation\n",
    "clf_LP = LabelPropagation(kernel='rbf', gamma=1, n_jobs=-1)\n",
    "clf_LP.fit(X_train_10, y_train_10)\n",
    "y_pred = clf_LP.predict(X_test)\n",
    "print(accuracy_score(y_test, y_pred))"
   ]
  },
  {
   "cell_type": "code",
   "execution_count": 24,
   "metadata": {},
   "outputs": [
    {
     "name": "stdout",
     "output_type": "stream",
     "text": [
      "MLP:  0.9315068493150684\n",
      "SVM:  0.9223744292237442\n",
      "Label Propagation:  0.8721461187214612\n"
     ]
    }
   ],
   "source": [
    "#show all accuracy scores\n",
    "print(\"MLP: \", accuracy_score(y_test, clf_MLP.predict(X_test)))\n",
    "print(\"SVM: \", accuracy_score(y_test, clf_SVM.predict(X_test)))\n",
    "print(\"Label Propagation: \", accuracy_score(y_test, clf_LP.predict(X_test)))"
   ]
  }
 ],
 "metadata": {
  "kernelspec": {
   "display_name": "Python 3.9.13 64-bit (windows store)",
   "language": "python",
   "name": "python3"
  },
  "language_info": {
   "codemirror_mode": {
    "name": "ipython",
    "version": 3
   },
   "file_extension": ".py",
   "mimetype": "text/x-python",
   "name": "python",
   "nbconvert_exporter": "python",
   "pygments_lexer": "ipython3",
   "version": "3.9.13"
  },
  "orig_nbformat": 4,
  "vscode": {
   "interpreter": {
    "hash": "c7410f40d099aef5374f3fcdd3568a248bffc5d7f737b94c1568c8ef46bb73f5"
   }
  }
 },
 "nbformat": 4,
 "nbformat_minor": 2
}
